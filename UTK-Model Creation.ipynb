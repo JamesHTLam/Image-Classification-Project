{
 "cells": [
  {
   "cell_type": "code",
   "execution_count": 1,
   "metadata": {
    "id": "kv0swTf21dEX"
   },
   "outputs": [],
   "source": [
    "import pandas as pd\n",
    "import numpy as np\n",
    "from numpy import array\n",
    "import matplotlib.pyplot as plt\n",
    "import seaborn as sns\n",
    "import os\n",
    "from PIL import Image\n",
    "from sklearn.model_selection import train_test_split\n",
    "from sklearn.metrics import confusion_matrix, classification_report, r2_score, mean_squared_error\n",
    "\n",
    "import tensorflow as tf  \n",
    "from keras import Sequential\n",
    "from keras.layers import Dropout, Add, Dense, BatchNormalization, Flatten, Conv2D, MaxPooling2D\n",
    "from keras.models import load_model\n",
    "from keras.preprocessing.image import ImageDataGenerator\n",
    "from keras.utils import load_img\n",
    "from keras.callbacks import ModelCheckpoint, EarlyStopping\n",
    "import cv2\n",
    "from collections import Counter\n"
   ]
  },
  {
   "cell_type": "code",
   "execution_count": 3,
   "metadata": {
    "id": "Lxoo8KMj2x5p"
   },
   "outputs": [],
   "source": [
    "Age=[]\n",
    "Gender=[]\n",
    "Race=[]\n",
    "images_data=[]\n",
    "#download images and put in a suitable directory\n",
    "#link: https://www.kaggle.com/datasets/muhammadardiputra/utkface-dataset\n",
    "directory='UTKFace/'\n",
    "for file in os.listdir(directory):\n",
    "    filename=directory+file\n",
    "    #load images in single color mode\n",
    "    X=load_img(filename, color_mode=\"grayscale\")\n",
    "    #resize images\n",
    "    X_resized=X.resize((32, 32),resample=Image.LANCZOS)\n",
    "    X_flatten=array(X_resized).flatten()\n",
    "    X_flatten_reshaped = X_flatten.reshape(32,32,1).astype('float32') \n",
    "    #normalization\n",
    "    X_flatten_reshaped_normalized=X_flatten_reshaped/255\n",
    "    images_data.append(X_flatten_reshaped_normalized)\n",
    "    imagfilename=file.split('_')\n",
    "    Age.append(imagfilename[0])\n",
    "    Gender.append(imagfilename[1])\n",
    "    Race.append(imagfilename[2])"
   ]
  },
  {
   "cell_type": "code",
   "execution_count": 4,
   "metadata": {},
   "outputs": [
    {
     "name": "stdout",
     "output_type": "stream",
     "text": [
      "Counter({'26': 2197, '1': 1123, '28': 918, '35': 880, '24': 859, '25': 734, '30': 724, '32': 664, '27': 615, '29': 570, '40': 526, '36': 483, '2': 482, '45': 440, '23': 426, '34': 409, '22': 395, '50': 381, '54': 353, '31': 350, '21': 346, '38': 325, '37': 293, '60': 293, '3': 289, '20': 284, '4': 273, '58': 271, '55': 268, '42': 266, '39': 265, '8': 263, '18': 262, '65': 259, '16': 247, '53': 241, '56': 236, '52': 232, '5': 196, '15': 177, '47': 170, '9': 166, '61': 159, '17': 158, '14': 157, '43': 157, '10': 156, '85': 155, '46': 153, '48': 153, '49': 148, '75': 148, '70': 147, '33': 143, '7': 139, '51': 138, '80': 133, '41': 132, '6': 131, '12': 130, '62': 125, '63': 103, '44': 100, '68': 100, '19': 98, '72': 98, '57': 97, '67': 94, '59': 82, '90': 82, '13': 81, '66': 77, '78': 69, '11': 65, '73': 63, '76': 58, '69': 56, '64': 50, '82': 40, '86': 35, '88': 34, '71': 33, '89': 33, '74': 32, '77': 28, '84': 24, '79': 23, '81': 22, '83': 18, '96': 17, '92': 13, '100': 11, '87': 10, '95': 9, '99': 9, '105': 5, '110': 5, '93': 5, '116': 4, '115': 3, '101': 2, '91': 2, '103': 1, '111': 1})\n",
      "Counter({'0': 12391, '1': 11314})\n",
      "Counter({'0': 10078, '1': 4526, '3': 3975, '2': 3434, '4': 1692})\n"
     ]
    }
   ],
   "source": [
    "print(Counter(Age))\n",
    "print(Counter(Gender))\n",
    "print(Counter(Race))"
   ]
  },
  {
   "cell_type": "code",
   "execution_count": 5,
   "metadata": {
    "id": "1X52H4jkEUu9"
   },
   "outputs": [],
   "source": [
    "age=np.array(Age).astype('float32')\n",
    "gender=np.array(Gender).astype('float32')\n",
    "race=np.array(Race).astype('float32')\n",
    "images_data=np.array(images_data)"
   ]
  },
  {
   "cell_type": "code",
   "execution_count": 6,
   "metadata": {
    "colab": {
     "base_uri": "https://localhost:8080/"
    },
    "id": "82tMwL0KMyZl",
    "outputId": "882b0163-0bb0-4cd7-d693-122a521a91a7"
   },
   "outputs": [
    {
     "data": {
      "text/plain": [
       "(23705, 32, 32, 1)"
      ]
     },
     "execution_count": 6,
     "metadata": {},
     "output_type": "execute_result"
    }
   ],
   "source": [
    "images_data.shape"
   ]
  },
  {
   "cell_type": "code",
   "execution_count": 7,
   "metadata": {},
   "outputs": [],
   "source": [
    "#gender model creation\n",
    "gender_model=Sequential()\n",
    "\n",
    "gender_model.add(Conv2D(32, (3, 3), input_shape=(32,32,1), activation='relu', padding='same'))\n",
    "gender_model.add(Conv2D(32, (3, 3), activation='relu', padding='same'))\n",
    "gender_model.add(BatchNormalization())\n",
    "gender_model.add(MaxPooling2D(2, 2))\n",
    "gender_model.add(Dropout(0.3))\n",
    "\n",
    "gender_model.add(Conv2D(64, (3, 3), activation='relu', padding='same'))\n",
    "gender_model.add(Conv2D(64, (3, 3), activation='relu', padding='same'))\n",
    "gender_model.add(BatchNormalization())\n",
    "gender_model.add(MaxPooling2D(2, 2))\n",
    "gender_model.add(Dropout(0.3))\n",
    "\n",
    "gender_model.add(Conv2D(128, (3, 3), activation='relu', padding='same'))\n",
    "gender_model.add(Conv2D(128, (3, 3), activation='relu', padding='same'))\n",
    "gender_model.add(BatchNormalization())\n",
    "gender_model.add(MaxPooling2D(2, 2))\n",
    "gender_model.add(Dropout(0.3))\n",
    "\n",
    "gender_model.add(Flatten())\n",
    "gender_model.add(Dropout(0.3))\n",
    "gender_model.add(Dense(64, activation='relu'))\n",
    "gender_model.add(Dropout(0.3))\n",
    "gender_model.add(Dense(1, activation='sigmoid'))\n",
    "gender_model.compile(loss='binary_crossentropy',optimizer='adam',metrics=['accuracy'])"
   ]
  },
  {
   "cell_type": "code",
   "execution_count": 8,
   "metadata": {},
   "outputs": [],
   "source": [
    "#age model creation\n",
    "age_model=Sequential()\n",
    "\n",
    "age_model.add(Conv2D(32, (3, 3), input_shape=(32,32,1), activation='relu', padding='same'))\n",
    "age_model.add(Conv2D(32, (3, 3), activation='relu', padding='same'))\n",
    "age_model.add(BatchNormalization())\n",
    "age_model.add(MaxPooling2D(2, 2))\n",
    "age_model.add(Dropout(0.3))\n",
    "\n",
    "age_model.add(Conv2D(64, (3, 3), activation='relu', padding='same'))\n",
    "age_model.add(Conv2D(64, (3, 3), activation='relu', padding='same'))\n",
    "age_model.add(BatchNormalization())\n",
    "age_model.add(MaxPooling2D(2, 2))\n",
    "age_model.add(Dropout(0.3))\n",
    "\n",
    "age_model.add(Conv2D(128, (3, 3), activation='relu', padding='same'))\n",
    "age_model.add(Conv2D(128, (3, 3), activation='relu', padding='same'))\n",
    "age_model.add(BatchNormalization())\n",
    "age_model.add(MaxPooling2D(2, 2))\n",
    "age_model.add(Dropout(0.3))\n",
    "\n",
    "age_model.add(Flatten())\n",
    "age_model.add(Dropout(0.3))\n",
    "age_model.add(Dense(64, activation='relu'))\n",
    "age_model.add(Dropout(0.3))\n",
    "age_model.add(Dense(1,activation=\"relu\"))\n",
    "age_model.compile(loss='mean_absolute_error', optimizer='adam')"
   ]
  },
  {
   "cell_type": "code",
   "execution_count": 9,
   "metadata": {},
   "outputs": [],
   "source": [
    "#race model creation\n",
    "race_model=Sequential()\n",
    "\n",
    "race_model.add(Conv2D(32, (3, 3), input_shape=(32,32,1), activation='relu', padding='same'))\n",
    "race_model.add(Conv2D(32, (3, 3), activation='relu', padding='same'))\n",
    "race_model.add(BatchNormalization())\n",
    "race_model.add(MaxPooling2D(2, 2))\n",
    "race_model.add(Dropout(0.3))\n",
    "\n",
    "race_model.add(Conv2D(64, (3, 3), activation='relu', padding='same'))\n",
    "race_model.add(Conv2D(64, (3, 3), activation='relu', padding='same'))\n",
    "race_model.add(BatchNormalization())\n",
    "race_model.add(MaxPooling2D(2, 2))\n",
    "race_model.add(Dropout(0.3))\n",
    "\n",
    "race_model.add(Conv2D(128, (3, 3), activation='relu', padding='same'))\n",
    "race_model.add(Conv2D(128, (3, 3), activation='relu', padding='same'))\n",
    "race_model.add(BatchNormalization())\n",
    "race_model.add(MaxPooling2D(2, 2))\n",
    "race_model.add(Dropout(0.3))\n",
    "\n",
    "race_model.add(Flatten())\n",
    "race_model.add(Dropout(0.3))\n",
    "race_model.add(Dense(64, activation='relu'))\n",
    "race_model.add(Dropout(0.3))\n",
    "race_model.add(Dense(5, activation='softmax'))\n",
    "race_model.compile(loss='sparse_categorical_crossentropy',optimizer='adam',metrics=['accuracy'])"
   ]
  },
  {
   "cell_type": "code",
   "execution_count": 22,
   "metadata": {
    "id": "f52GWsNaPQrL"
   },
   "outputs": [],
   "source": [
    "#split dataset into training and testing set\n",
    "X_train_gender, X_test_gender, Y_train_gender, Y_test_gender=train_test_split(images_data, gender, test_size=0.25)\n",
    "X_train_age, X_test_age, Y_train_age, Y_test_age=train_test_split(images_data, age, test_size=0.25)\n",
    "X_train_race,  X_test_race, Y_train_race, Y_test_race=train_test_split(images_data, race, test_size=0.25)"
   ]
  },
  {
   "cell_type": "code",
   "execution_count": 23,
   "metadata": {
    "id": "FIObKiETL0NK"
   },
   "outputs": [],
   "source": [
    "data_generator = ImageDataGenerator(width_shift_range=0.1, height_shift_range=0.1, horizontal_flip=True)\n",
    "train_generator_gender = data_generator.flow(X_train_gender, Y_train_gender, 32)\n",
    "train_generator_age = data_generator.flow(X_train_age, Y_train_age, 32)\n",
    "train_generator_race = data_generator.flow(X_train_race, Y_train_race, 32)"
   ]
  },
  {
   "cell_type": "code",
   "execution_count": 24,
   "metadata": {},
   "outputs": [],
   "source": [
    "#model training\n",
    "early_stopping=EarlyStopping(monitor='val_loss', patience=10, verbose=0, mode='min')\n",
    "model_checkpoint_gender=ModelCheckpoint('gender-{epoch:02d}-{val_loss:.2f}.hdf5', save_best_only=True, monitor='val_loss', mode='min')\n",
    "model_checkpoint_age=ModelCheckpoint('age-{epoch:02d}-{val_loss:.2f}.hdf5', save_best_only=True, monitor='val_loss', mode='min')\n",
    "model_checkpoint_race=ModelCheckpoint('race-{epoch:02d}-{val_loss:.2f}.hdf5', save_best_only=True, monitor='val_loss', mode='min')\n"
   ]
  },
  {
   "cell_type": "markdown",
   "metadata": {},
   "source": [
    "Training Gender Model"
   ]
  },
  {
   "cell_type": "code",
   "execution_count": 13,
   "metadata": {
    "id": "EBls-bOK6kFP"
   },
   "outputs": [
    {
     "name": "stdout",
     "output_type": "stream",
     "text": [
      "Epoch 1/50\n",
      "556/556 [==============================] - 51s 90ms/step - loss: 0.6068 - accuracy: 0.6821 - val_loss: 0.4588 - val_accuracy: 0.7802\n",
      "Epoch 2/50\n",
      "556/556 [==============================] - 54s 97ms/step - loss: 0.4648 - accuracy: 0.7864 - val_loss: 0.4517 - val_accuracy: 0.7803\n",
      "Epoch 3/50\n",
      "556/556 [==============================] - 57s 102ms/step - loss: 0.4265 - accuracy: 0.8035 - val_loss: 0.3758 - val_accuracy: 0.8232\n",
      "Epoch 4/50\n",
      "556/556 [==============================] - 57s 103ms/step - loss: 0.3961 - accuracy: 0.8222 - val_loss: 0.3766 - val_accuracy: 0.8313\n",
      "Epoch 5/50\n",
      "556/556 [==============================] - 59s 106ms/step - loss: 0.3891 - accuracy: 0.8273 - val_loss: 0.3412 - val_accuracy: 0.8458\n",
      "Epoch 6/50\n",
      "556/556 [==============================] - 59s 107ms/step - loss: 0.3666 - accuracy: 0.8350 - val_loss: 0.3260 - val_accuracy: 0.8522\n",
      "Epoch 7/50\n",
      "556/556 [==============================] - 69s 124ms/step - loss: 0.3626 - accuracy: 0.8370 - val_loss: 0.3364 - val_accuracy: 0.8485\n",
      "Epoch 8/50\n",
      "556/556 [==============================] - 81s 146ms/step - loss: 0.3488 - accuracy: 0.8418 - val_loss: 0.3166 - val_accuracy: 0.8606\n",
      "Epoch 9/50\n",
      "556/556 [==============================] - 89s 160ms/step - loss: 0.3371 - accuracy: 0.8476 - val_loss: 0.3306 - val_accuracy: 0.8554\n",
      "Epoch 10/50\n",
      "556/556 [==============================] - 90s 161ms/step - loss: 0.3314 - accuracy: 0.8570 - val_loss: 0.3261 - val_accuracy: 0.8652\n",
      "Epoch 11/50\n",
      "556/556 [==============================] - 86s 154ms/step - loss: 0.3223 - accuracy: 0.8581 - val_loss: 0.2973 - val_accuracy: 0.8684\n",
      "Epoch 12/50\n",
      "556/556 [==============================] - 79s 143ms/step - loss: 0.3202 - accuracy: 0.8585 - val_loss: 0.2934 - val_accuracy: 0.8632\n",
      "Epoch 13/50\n",
      "556/556 [==============================] - 100s 180ms/step - loss: 0.3078 - accuracy: 0.8660 - val_loss: 0.2770 - val_accuracy: 0.8780\n",
      "Epoch 14/50\n",
      "556/556 [==============================] - 133s 239ms/step - loss: 0.3067 - accuracy: 0.8662 - val_loss: 0.2824 - val_accuracy: 0.8753\n",
      "Epoch 15/50\n",
      "556/556 [==============================] - 135s 243ms/step - loss: 0.3023 - accuracy: 0.8697 - val_loss: 0.2760 - val_accuracy: 0.8780\n",
      "Epoch 16/50\n",
      "556/556 [==============================] - 143s 257ms/step - loss: 0.2988 - accuracy: 0.8708 - val_loss: 0.2934 - val_accuracy: 0.8757\n",
      "Epoch 17/50\n",
      "556/556 [==============================] - 132s 236ms/step - loss: 0.2915 - accuracy: 0.8737 - val_loss: 0.2832 - val_accuracy: 0.8735\n",
      "Epoch 18/50\n",
      "556/556 [==============================] - 57s 103ms/step - loss: 0.2942 - accuracy: 0.8722 - val_loss: 0.2822 - val_accuracy: 0.8768\n",
      "Epoch 19/50\n",
      "556/556 [==============================] - 76s 138ms/step - loss: 0.2858 - accuracy: 0.8757 - val_loss: 0.2609 - val_accuracy: 0.8827\n",
      "Epoch 20/50\n",
      "556/556 [==============================] - 98s 176ms/step - loss: 0.2839 - accuracy: 0.8756 - val_loss: 0.2601 - val_accuracy: 0.8920\n",
      "Epoch 21/50\n",
      "556/556 [==============================] - 144s 259ms/step - loss: 0.2790 - accuracy: 0.8792 - val_loss: 0.2586 - val_accuracy: 0.8812\n",
      "Epoch 22/50\n",
      "556/556 [==============================] - 155s 278ms/step - loss: 0.2736 - accuracy: 0.8824 - val_loss: 0.2535 - val_accuracy: 0.8905\n",
      "Epoch 23/50\n",
      "556/556 [==============================] - 154s 278ms/step - loss: 0.2757 - accuracy: 0.8802 - val_loss: 0.2737 - val_accuracy: 0.8736\n",
      "Epoch 24/50\n",
      "556/556 [==============================] - 159s 286ms/step - loss: 0.2710 - accuracy: 0.8850 - val_loss: 0.2536 - val_accuracy: 0.8924\n",
      "Epoch 25/50\n",
      "556/556 [==============================] - 139s 249ms/step - loss: 0.2720 - accuracy: 0.8835 - val_loss: 0.2547 - val_accuracy: 0.8924\n",
      "Epoch 26/50\n",
      "556/556 [==============================] - 153s 275ms/step - loss: 0.2670 - accuracy: 0.8861 - val_loss: 0.2628 - val_accuracy: 0.8903\n",
      "Epoch 27/50\n",
      "556/556 [==============================] - 122s 219ms/step - loss: 0.2651 - accuracy: 0.8863 - val_loss: 0.2565 - val_accuracy: 0.8952\n",
      "Epoch 28/50\n",
      "556/556 [==============================] - 148s 265ms/step - loss: 0.2658 - accuracy: 0.8863 - val_loss: 0.2480 - val_accuracy: 0.8919\n",
      "Epoch 29/50\n",
      "556/556 [==============================] - 143s 258ms/step - loss: 0.2574 - accuracy: 0.8907 - val_loss: 0.2522 - val_accuracy: 0.8890\n",
      "Epoch 30/50\n",
      "556/556 [==============================] - 127s 228ms/step - loss: 0.2611 - accuracy: 0.8903 - val_loss: 0.2382 - val_accuracy: 0.9003\n",
      "Epoch 31/50\n",
      "556/556 [==============================] - 96s 173ms/step - loss: 0.2576 - accuracy: 0.8901 - val_loss: 0.2365 - val_accuracy: 0.9030\n",
      "Epoch 32/50\n",
      "556/556 [==============================] - 103s 185ms/step - loss: 0.2571 - accuracy: 0.8885 - val_loss: 0.2488 - val_accuracy: 0.8905\n",
      "Epoch 33/50\n",
      "556/556 [==============================] - 114s 206ms/step - loss: 0.2524 - accuracy: 0.8940 - val_loss: 0.2417 - val_accuracy: 0.8986\n",
      "Epoch 34/50\n",
      "556/556 [==============================] - 115s 207ms/step - loss: 0.2546 - accuracy: 0.8908 - val_loss: 0.2322 - val_accuracy: 0.9064\n",
      "Epoch 35/50\n",
      "556/556 [==============================] - 156s 281ms/step - loss: 0.2489 - accuracy: 0.8958 - val_loss: 0.2354 - val_accuracy: 0.8996\n",
      "Epoch 36/50\n",
      "556/556 [==============================] - 135s 244ms/step - loss: 0.2505 - accuracy: 0.8932 - val_loss: 0.3161 - val_accuracy: 0.8622\n",
      "Epoch 37/50\n",
      "556/556 [==============================] - 123s 221ms/step - loss: 0.2427 - accuracy: 0.8973 - val_loss: 0.2319 - val_accuracy: 0.8984\n",
      "Epoch 38/50\n",
      "556/556 [==============================] - 138s 248ms/step - loss: 0.2452 - accuracy: 0.8959 - val_loss: 0.2348 - val_accuracy: 0.9025\n",
      "Epoch 39/50\n",
      "556/556 [==============================] - 122s 220ms/step - loss: 0.2424 - accuracy: 0.8997 - val_loss: 0.2305 - val_accuracy: 0.9018\n",
      "Epoch 40/50\n",
      "556/556 [==============================] - 117s 210ms/step - loss: 0.2401 - accuracy: 0.8982 - val_loss: 0.2389 - val_accuracy: 0.9003\n",
      "Epoch 41/50\n",
      "556/556 [==============================] - 116s 208ms/step - loss: 0.2366 - accuracy: 0.8979 - val_loss: 0.2305 - val_accuracy: 0.9040\n",
      "Epoch 42/50\n",
      "556/556 [==============================] - 113s 204ms/step - loss: 0.2406 - accuracy: 0.8999 - val_loss: 0.2460 - val_accuracy: 0.8959\n",
      "Epoch 43/50\n",
      "556/556 [==============================] - 114s 204ms/step - loss: 0.2364 - accuracy: 0.8993 - val_loss: 0.2272 - val_accuracy: 0.9018\n",
      "Epoch 44/50\n",
      "556/556 [==============================] - 113s 203ms/step - loss: 0.2351 - accuracy: 0.9025 - val_loss: 0.2358 - val_accuracy: 0.9023\n",
      "Epoch 45/50\n",
      "556/556 [==============================] - 114s 206ms/step - loss: 0.2372 - accuracy: 0.9007 - val_loss: 0.2306 - val_accuracy: 0.9018\n",
      "Epoch 46/50\n",
      "556/556 [==============================] - 112s 202ms/step - loss: 0.2357 - accuracy: 0.9017 - val_loss: 0.2453 - val_accuracy: 0.9030\n",
      "Epoch 47/50\n",
      "556/556 [==============================] - 113s 204ms/step - loss: 0.2303 - accuracy: 0.9035 - val_loss: 0.2279 - val_accuracy: 0.9045\n",
      "Epoch 48/50\n",
      "556/556 [==============================] - 129s 232ms/step - loss: 0.2319 - accuracy: 0.9015 - val_loss: 0.2601 - val_accuracy: 0.8768\n",
      "Epoch 49/50\n",
      "556/556 [==============================] - 119s 214ms/step - loss: 0.2326 - accuracy: 0.9024 - val_loss: 0.2324 - val_accuracy: 0.8983\n",
      "Epoch 50/50\n",
      "556/556 [==============================] - 96s 173ms/step - loss: 0.2256 - accuracy: 0.9048 - val_loss: 0.2380 - val_accuracy: 0.9008\n"
     ]
    }
   ],
   "source": [
    "gender_history=gender_model.fit(train_generator_gender, epochs=50, validation_data=(X_test_gender,Y_test_gender), callbacks=[early_stopping, model_checkpoint_gender])"
   ]
  },
  {
   "cell_type": "code",
   "execution_count": 15,
   "metadata": {},
   "outputs": [
    {
     "name": "stdout",
     "output_type": "stream",
     "text": [
      "186/186 [==============================] - 9s 49ms/step - loss: 0.2380 - accuracy: 0.9008\n"
     ]
    },
    {
     "data": {
      "text/plain": [
       "[0.23796844482421875, 0.9007929563522339]"
      ]
     },
     "execution_count": 15,
     "metadata": {},
     "output_type": "execute_result"
    }
   ],
   "source": [
    "gender_model.evaluate(X_test_gender, Y_test_gender)"
   ]
  },
  {
   "cell_type": "code",
   "execution_count": 16,
   "metadata": {
    "id": "YuLNnNbqBbGy"
   },
   "outputs": [
    {
     "data": {
      "image/png": "[encoded data removed]",
      "text/plain": [
       "<Figure size 432x288 with 1 Axes>"
      ]
     },
     "metadata": {
      "needs_background": "light"
     },
     "output_type": "display_data"
    }
   ],
   "source": [
    "fig = plt.figure()\n",
    "plt.plot(gender_history.history['accuracy'], label='gender_accuracy')\n",
    "plt.plot(gender_history.history['val_accuracy'], label='val_gender_accuracy')\n",
    "plt.xlabel('Epoch')\n",
    "plt.ylabel('Accuracy')\n",
    "plt.legend()\n",
    "plt.grid(True)\n",
    "plt.title('Accuracy and Validation Accuracy for Gender Model')\n",
    "plt.show()"
   ]
  },
  {
   "cell_type": "code",
   "execution_count": 17,
   "metadata": {
    "id": "0dDtfth1Bam2"
   },
   "outputs": [
    {
     "data": {
      "image/png": "[encoded data removed]",
      "text/plain": [
       "<Figure size 432x288 with 1 Axes>"
      ]
     },
     "metadata": {
      "needs_background": "light"
     },
     "output_type": "display_data"
    }
   ],
   "source": [
    "fig = plt.figure()\n",
    "plt.plot(gender_history.history['loss'], label='gender_loss')\n",
    "plt.plot(gender_history.history['val_loss'], label='val_gender_loss')\n",
    "plt.xlabel('Epoch')\n",
    "plt.ylabel('Loss')\n",
    "plt.legend()\n",
    "plt.grid(True)\n",
    "plt.title('Loss and Validation Loss for Gender Model')\n",
    "plt.show()"
   ]
  },
  {
   "cell_type": "markdown",
   "metadata": {},
   "source": [
    "Training Age Model"
   ]
  },
  {
   "cell_type": "code",
   "execution_count": 25,
   "metadata": {
    "id": "YiKsKkUlOWZI"
   },
   "outputs": [
    {
     "name": "stdout",
     "output_type": "stream",
     "text": [
      "Epoch 1/50\n",
      "556/556 [==============================] - 81s 145ms/step - loss: 7.8884 - val_loss: 6.7533\n",
      "Epoch 2/50\n",
      "556/556 [==============================] - 117s 210ms/step - loss: 7.9362 - val_loss: 6.4953\n",
      "Epoch 3/50\n",
      "556/556 [==============================] - 150s 270ms/step - loss: 7.8765 - val_loss: 10.5482\n",
      "Epoch 4/50\n",
      "556/556 [==============================] - 189s 339ms/step - loss: 7.8042 - val_loss: 7.4132\n",
      "Epoch 5/50\n",
      "556/556 [==============================] - 200s 359ms/step - loss: 7.7969 - val_loss: 7.5352\n",
      "Epoch 6/50\n",
      "556/556 [==============================] - 154s 278ms/step - loss: 7.6680 - val_loss: 6.4213\n",
      "Epoch 7/50\n",
      "556/556 [==============================] - 179s 321ms/step - loss: 7.7193 - val_loss: 6.9991\n",
      "Epoch 8/50\n",
      "556/556 [==============================] - 178s 320ms/step - loss: 7.7196 - val_loss: 6.5513\n",
      "Epoch 9/50\n",
      "556/556 [==============================] - 141s 254ms/step - loss: 7.6446 - val_loss: 6.7469\n",
      "Epoch 10/50\n",
      "556/556 [==============================] - 130s 233ms/step - loss: 7.5609 - val_loss: 6.7017\n",
      "Epoch 11/50\n",
      "556/556 [==============================] - 147s 265ms/step - loss: 7.5813 - val_loss: 6.8995\n",
      "Epoch 12/50\n",
      "556/556 [==============================] - 162s 291ms/step - loss: 7.5009 - val_loss: 6.2618\n",
      "Epoch 13/50\n",
      "556/556 [==============================] - 130s 233ms/step - loss: 7.5269 - val_loss: 7.3700\n",
      "Epoch 14/50\n",
      "556/556 [==============================] - 134s 241ms/step - loss: 7.6018 - val_loss: 6.5561\n",
      "Epoch 15/50\n",
      "556/556 [==============================] - 131s 235ms/step - loss: 7.5233 - val_loss: 6.3826\n",
      "Epoch 16/50\n",
      "556/556 [==============================] - 136s 244ms/step - loss: 7.5003 - val_loss: 6.8093\n",
      "Epoch 17/50\n",
      "556/556 [==============================] - 195s 351ms/step - loss: 7.4538 - val_loss: 7.9943\n",
      "Epoch 18/50\n",
      "556/556 [==============================] - 162s 292ms/step - loss: 7.4461 - val_loss: 6.9452\n",
      "Epoch 19/50\n",
      "556/556 [==============================] - 143s 256ms/step - loss: 7.4320 - val_loss: 8.3278\n",
      "Epoch 20/50\n",
      "556/556 [==============================] - 125s 226ms/step - loss: 7.4601 - val_loss: 6.4376\n",
      "Epoch 21/50\n",
      "556/556 [==============================] - 131s 235ms/step - loss: 7.4872 - val_loss: 6.3941\n",
      "Epoch 22/50\n",
      "556/556 [==============================] - 145s 260ms/step - loss: 7.3820 - val_loss: 6.6145\n"
     ]
    }
   ],
   "source": [
    "age_history=age_model.fit(train_generator_age, epochs=50, validation_data=(X_test_age,Y_test_age), callbacks=[early_stopping, model_checkpoint_age])"
   ]
  },
  {
   "cell_type": "code",
   "execution_count": 26,
   "metadata": {},
   "outputs": [
    {
     "name": "stdout",
     "output_type": "stream",
     "text": [
      "186/186 [==============================] - 11s 58ms/step - loss: 6.6145\n"
     ]
    },
    {
     "data": {
      "text/plain": [
       "6.614524841308594"
      ]
     },
     "execution_count": 26,
     "metadata": {},
     "output_type": "execute_result"
    }
   ],
   "source": [
    "age_model.evaluate(X_test_age, Y_test_age)"
   ]
  },
  {
   "cell_type": "code",
   "execution_count": 27,
   "metadata": {},
   "outputs": [
    {
     "data": {
      "image/png": "[encoded data removed]",
      "text/plain": [
       "<Figure size 432x288 with 1 Axes>"
      ]
     },
     "metadata": {
      "needs_background": "light"
     },
     "output_type": "display_data"
    }
   ],
   "source": [
    "fig = plt.figure()\n",
    "plt.plot(age_history.history['loss'], label='age_loss')\n",
    "plt.plot(age_history.history['val_loss'], label='val_age_loss')\n",
    "plt.xlabel('Epoch')\n",
    "plt.ylabel('Loss')\n",
    "plt.legend()\n",
    "plt.grid(True)\n",
    "plt.title('Loss and Validation Loss for Age Model')\n",
    "plt.show()"
   ]
  },
  {
   "cell_type": "markdown",
   "metadata": {},
   "source": [
    "Training Race Model"
   ]
  },
  {
   "cell_type": "code",
   "execution_count": 28,
   "metadata": {
    "id": "ZqF6oUPGOWbm"
   },
   "outputs": [
    {
     "name": "stdout",
     "output_type": "stream",
     "text": [
      "Epoch 1/50\n",
      "556/556 [==============================] - 148s 260ms/step - loss: 1.4287 - accuracy: 0.4547 - val_loss: 1.3056 - val_accuracy: 0.4866\n",
      "Epoch 2/50\n",
      "556/556 [==============================] - 108s 195ms/step - loss: 1.2848 - accuracy: 0.4984 - val_loss: 1.1305 - val_accuracy: 0.5688\n",
      "Epoch 3/50\n",
      "556/556 [==============================] - 116s 209ms/step - loss: 1.1597 - accuracy: 0.5556 - val_loss: 1.0444 - val_accuracy: 0.6163\n",
      "Epoch 4/50\n",
      "556/556 [==============================] - 110s 198ms/step - loss: 1.0920 - accuracy: 0.5915 - val_loss: 0.9959 - val_accuracy: 0.6379\n",
      "Epoch 5/50\n",
      "556/556 [==============================] - 113s 202ms/step - loss: 1.0340 - accuracy: 0.6231 - val_loss: 0.8696 - val_accuracy: 0.6938\n",
      "Epoch 6/50\n",
      "556/556 [==============================] - 113s 202ms/step - loss: 0.9980 - accuracy: 0.6415 - val_loss: 0.9350 - val_accuracy: 0.6580\n",
      "Epoch 7/50\n",
      "556/556 [==============================] - 112s 202ms/step - loss: 0.9716 - accuracy: 0.6497 - val_loss: 0.9094 - val_accuracy: 0.6764\n",
      "Epoch 8/50\n",
      "556/556 [==============================] - 113s 204ms/step - loss: 0.9459 - accuracy: 0.6643 - val_loss: 0.8158 - val_accuracy: 0.7225\n",
      "Epoch 9/50\n",
      "556/556 [==============================] - 114s 205ms/step - loss: 0.9098 - accuracy: 0.6799 - val_loss: 0.8560 - val_accuracy: 0.7014\n",
      "Epoch 10/50\n",
      "556/556 [==============================] - 111s 199ms/step - loss: 0.8981 - accuracy: 0.6875 - val_loss: 0.8120 - val_accuracy: 0.7225\n",
      "Epoch 11/50\n",
      "556/556 [==============================] - 114s 205ms/step - loss: 0.8809 - accuracy: 0.6895 - val_loss: 0.8145 - val_accuracy: 0.7160\n",
      "Epoch 12/50\n",
      "556/556 [==============================] - 114s 205ms/step - loss: 0.8585 - accuracy: 0.7018 - val_loss: 0.7555 - val_accuracy: 0.7410\n",
      "Epoch 13/50\n",
      "556/556 [==============================] - 124s 222ms/step - loss: 0.8384 - accuracy: 0.7065 - val_loss: 0.7803 - val_accuracy: 0.7279\n",
      "Epoch 14/50\n",
      "556/556 [==============================] - 129s 233ms/step - loss: 0.8286 - accuracy: 0.7125 - val_loss: 0.7182 - val_accuracy: 0.7457\n",
      "Epoch 15/50\n",
      "556/556 [==============================] - 138s 249ms/step - loss: 0.8142 - accuracy: 0.7145 - val_loss: 0.8445 - val_accuracy: 0.7090\n",
      "Epoch 16/50\n",
      "556/556 [==============================] - 133s 239ms/step - loss: 0.8048 - accuracy: 0.7213 - val_loss: 0.8020 - val_accuracy: 0.7176\n",
      "Epoch 17/50\n",
      "556/556 [==============================] - 117s 210ms/step - loss: 0.7899 - accuracy: 0.7291 - val_loss: 0.6780 - val_accuracy: 0.7692\n",
      "Epoch 18/50\n",
      "556/556 [==============================] - 114s 206ms/step - loss: 0.7856 - accuracy: 0.7269 - val_loss: 0.7420 - val_accuracy: 0.7403\n",
      "Epoch 19/50\n",
      "556/556 [==============================] - 113s 203ms/step - loss: 0.7794 - accuracy: 0.7285 - val_loss: 0.7248 - val_accuracy: 0.7523\n",
      "Epoch 20/50\n",
      "556/556 [==============================] - 115s 207ms/step - loss: 0.7688 - accuracy: 0.7364 - val_loss: 0.7219 - val_accuracy: 0.7604\n",
      "Epoch 21/50\n",
      "556/556 [==============================] - 115s 207ms/step - loss: 0.7643 - accuracy: 0.7397 - val_loss: 0.6828 - val_accuracy: 0.7739\n",
      "Epoch 22/50\n",
      "556/556 [==============================] - 119s 213ms/step - loss: 0.7484 - accuracy: 0.7444 - val_loss: 0.6872 - val_accuracy: 0.7662\n",
      "Epoch 23/50\n",
      "556/556 [==============================] - 109s 197ms/step - loss: 0.7458 - accuracy: 0.7449 - val_loss: 0.7521 - val_accuracy: 0.7378\n",
      "Epoch 24/50\n",
      "556/556 [==============================] - 109s 197ms/step - loss: 0.7465 - accuracy: 0.7421 - val_loss: 0.6501 - val_accuracy: 0.7785\n",
      "Epoch 25/50\n",
      "556/556 [==============================] - 111s 200ms/step - loss: 0.7292 - accuracy: 0.7499 - val_loss: 0.6575 - val_accuracy: 0.7753\n",
      "Epoch 26/50\n",
      "556/556 [==============================] - 130s 234ms/step - loss: 0.7268 - accuracy: 0.7506 - val_loss: 0.6714 - val_accuracy: 0.7668\n",
      "Epoch 27/50\n",
      "556/556 [==============================] - 113s 203ms/step - loss: 0.7216 - accuracy: 0.7519 - val_loss: 0.7379 - val_accuracy: 0.7591\n",
      "Epoch 28/50\n",
      "556/556 [==============================] - 118s 212ms/step - loss: 0.7117 - accuracy: 0.7543 - val_loss: 0.7006 - val_accuracy: 0.7559\n",
      "Epoch 29/50\n",
      "556/556 [==============================] - 153s 275ms/step - loss: 0.7078 - accuracy: 0.7584 - val_loss: 0.6576 - val_accuracy: 0.7731\n",
      "Epoch 30/50\n",
      "556/556 [==============================] - 165s 296ms/step - loss: 0.6977 - accuracy: 0.7591 - val_loss: 0.6007 - val_accuracy: 0.7950\n",
      "Epoch 31/50\n",
      "556/556 [==============================] - 139s 250ms/step - loss: 0.6936 - accuracy: 0.7635 - val_loss: 0.7245 - val_accuracy: 0.7550\n",
      "Epoch 32/50\n",
      "556/556 [==============================] - 98s 175ms/step - loss: 0.7090 - accuracy: 0.7569 - val_loss: 0.6933 - val_accuracy: 0.7601\n",
      "Epoch 33/50\n",
      "556/556 [==============================] - 107s 193ms/step - loss: 0.6919 - accuracy: 0.7608 - val_loss: 0.6301 - val_accuracy: 0.7818\n",
      "Epoch 34/50\n",
      "556/556 [==============================] - 99s 179ms/step - loss: 0.6899 - accuracy: 0.7613 - val_loss: 0.6957 - val_accuracy: 0.7685\n",
      "Epoch 35/50\n",
      "556/556 [==============================] - 66s 118ms/step - loss: 0.6857 - accuracy: 0.7654 - val_loss: 0.6324 - val_accuracy: 0.7862\n",
      "Epoch 36/50\n",
      "556/556 [==============================] - 89s 161ms/step - loss: 0.6760 - accuracy: 0.7679 - val_loss: 0.6684 - val_accuracy: 0.7812\n",
      "Epoch 37/50\n",
      "556/556 [==============================] - 106s 190ms/step - loss: 0.6725 - accuracy: 0.7704 - val_loss: 0.6550 - val_accuracy: 0.7815\n",
      "Epoch 38/50\n",
      "556/556 [==============================] - 108s 194ms/step - loss: 0.6700 - accuracy: 0.7699 - val_loss: 0.6339 - val_accuracy: 0.7906\n",
      "Epoch 39/50\n",
      "556/556 [==============================] - 105s 189ms/step - loss: 0.6636 - accuracy: 0.7738 - val_loss: 0.6761 - val_accuracy: 0.7695\n",
      "Epoch 40/50\n",
      "556/556 [==============================] - 103s 186ms/step - loss: 0.6622 - accuracy: 0.7725 - val_loss: 0.5793 - val_accuracy: 0.8039\n",
      "Epoch 41/50\n",
      "556/556 [==============================] - 106s 191ms/step - loss: 0.6625 - accuracy: 0.7712 - val_loss: 0.6020 - val_accuracy: 0.8012\n",
      "Epoch 42/50\n",
      "556/556 [==============================] - 100s 180ms/step - loss: 0.6563 - accuracy: 0.7751 - val_loss: 0.6083 - val_accuracy: 0.7943\n",
      "Epoch 43/50\n",
      "556/556 [==============================] - 82s 147ms/step - loss: 0.6526 - accuracy: 0.7732 - val_loss: 0.6193 - val_accuracy: 0.7876\n",
      "Epoch 44/50\n",
      "556/556 [==============================] - 64s 116ms/step - loss: 0.6556 - accuracy: 0.7758 - val_loss: 0.5899 - val_accuracy: 0.7985\n",
      "Epoch 45/50\n",
      "556/556 [==============================] - 55s 99ms/step - loss: 0.6395 - accuracy: 0.7801 - val_loss: 0.6180 - val_accuracy: 0.7928\n",
      "Epoch 46/50\n",
      "556/556 [==============================] - 55s 99ms/step - loss: 0.6339 - accuracy: 0.7813 - val_loss: 0.6115 - val_accuracy: 0.7872\n",
      "Epoch 47/50\n",
      "556/556 [==============================] - 69s 124ms/step - loss: 0.6369 - accuracy: 0.7814 - val_loss: 0.6805 - val_accuracy: 0.7569\n",
      "Epoch 48/50\n",
      "556/556 [==============================] - 81s 146ms/step - loss: 0.6380 - accuracy: 0.7785 - val_loss: 0.6207 - val_accuracy: 0.7876\n",
      "Epoch 49/50\n",
      "556/556 [==============================] - 95s 171ms/step - loss: 0.6360 - accuracy: 0.7835 - val_loss: 0.5878 - val_accuracy: 0.7958\n",
      "Epoch 50/50\n",
      "556/556 [==============================] - 85s 153ms/step - loss: 0.6292 - accuracy: 0.7839 - val_loss: 0.6413 - val_accuracy: 0.7840\n"
     ]
    }
   ],
   "source": [
    "race_history=race_model.fit(train_generator_race, epochs=50, validation_data=(X_test_race,Y_test_race), callbacks=[early_stopping, model_checkpoint_race])"
   ]
  },
  {
   "cell_type": "code",
   "execution_count": 30,
   "metadata": {},
   "outputs": [
    {
     "name": "stdout",
     "output_type": "stream",
     "text": [
      "186/186 [==============================] - 8s 41ms/step - loss: 0.6413 - accuracy: 0.7840\n"
     ]
    },
    {
     "data": {
      "text/plain": [
       "[0.641258180141449, 0.7840391397476196]"
      ]
     },
     "execution_count": 30,
     "metadata": {},
     "output_type": "execute_result"
    }
   ],
   "source": [
    "race_model.evaluate(X_test_race, Y_test_race)"
   ]
  },
  {
   "cell_type": "code",
   "execution_count": 31,
   "metadata": {},
   "outputs": [
    {
     "data": {
      "image/png": "[encoded data removed]",
      "text/plain": [
       "<Figure size 432x288 with 1 Axes>"
      ]
     },
     "metadata": {
      "needs_background": "light"
     },
     "output_type": "display_data"
    }
   ],
   "source": [
    "fig = plt.figure()\n",
    "plt.plot(race_history.history['accuracy'], label='race_accuracy')\n",
    "plt.plot(race_history.history['val_accuracy'], label='val_race_accuracy')\n",
    "plt.xlabel('Epoch')\n",
    "plt.ylabel('Accuracy')\n",
    "plt.legend()\n",
    "plt.grid(True)\n",
    "plt.title('Accuracy and Validation Accuracy for Race Model')\n",
    "plt.show()"
   ]
  },
  {
   "cell_type": "code",
   "execution_count": 32,
   "metadata": {
    "scrolled": true
   },
   "outputs": [
    {
     "data": {
      "image/png": "[encoded data removed]",
      "text/plain": [
       "<Figure size 432x288 with 1 Axes>"
      ]
     },
     "metadata": {
      "needs_background": "light"
     },
     "output_type": "display_data"
    }
   ],
   "source": [
    "fig = plt.figure()\n",
    "plt.plot(race_history.history['loss'], label='race__loss')\n",
    "plt.plot(race_history.history['val_loss'], label='val_race_loss')\n",
    "plt.xlabel('Epoch')\n",
    "plt.ylabel('Loss')\n",
    "plt.legend()\n",
    "plt.grid(True)\n",
    "plt.title('Loss and Validation Loss for Race Model')\n",
    "plt.show()"
   ]
  },
  {
   "cell_type": "markdown",
   "metadata": {},
   "source": [
    "### Model Evaluation"
   ]
  },
  {
   "cell_type": "markdown",
   "metadata": {},
   "source": [
    "a) Gender"
   ]
  },
  {
   "cell_type": "code",
   "execution_count": 34,
   "metadata": {},
   "outputs": [
    {
     "name": "stdout",
     "output_type": "stream",
     "text": [
      "186/186 [==============================] - 4s 19ms/step\n"
     ]
    }
   ],
   "source": [
    "gender_pred=np.round(gender_model.predict([X_test_gender]))"
   ]
  },
  {
   "cell_type": "code",
   "execution_count": 35,
   "metadata": {},
   "outputs": [
    {
     "data": {
      "text/plain": [
       "<AxesSubplot:xlabel='Predicted', ylabel='Actual'>"
      ]
     },
     "execution_count": 35,
     "metadata": {},
     "output_type": "execute_result"
    },
    {
     "data": {
      "image/png": "[encoded data removed]",
      "text/plain": [
       "<Figure size 432x288 with 1 Axes>"
      ]
     },
     "metadata": {
      "needs_background": "light"
     },
     "output_type": "display_data"
    }
   ],
   "source": [
    "#confusion matrix\n",
    "cm=confusion_matrix(Y_test_gender, gender_pred)\n",
    "df_cm = pd.DataFrame(cm, columns=np.unique(Y_test_gender), index = np.unique(Y_test_gender))\n",
    "df_cm.index.name = 'Actual'\n",
    "df_cm.columns.name = 'Predicted'\n",
    "sns.heatmap(df_cm, annot=True,annot_kws={\"size\": 12}, cbar=False,square=True, fmt=\"d\", cmap=\"Blues\")"
   ]
  },
  {
   "cell_type": "code",
   "execution_count": 36,
   "metadata": {},
   "outputs": [
    {
     "name": "stdout",
     "output_type": "stream",
     "text": [
      "              precision    recall  f1-score   support\n",
      "\n",
      "         0.0       0.92      0.90      0.91      3037\n",
      "         1.0       0.90      0.92      0.91      2890\n",
      "\n",
      "    accuracy                           0.91      5927\n",
      "   macro avg       0.91      0.91      0.91      5927\n",
      "weighted avg       0.91      0.91      0.91      5927\n",
      "\n"
     ]
    }
   ],
   "source": [
    "#classification report\n",
    "print(classification_report(Y_test_gender, gender_pred))"
   ]
  },
  {
   "cell_type": "markdown",
   "metadata": {},
   "source": [
    "b) Age"
   ]
  },
  {
   "cell_type": "code",
   "execution_count": 37,
   "metadata": {},
   "outputs": [
    {
     "name": "stdout",
     "output_type": "stream",
     "text": [
      "186/186 [==============================] - 4s 19ms/step\n"
     ]
    }
   ],
   "source": [
    "age_pred=age_model.predict(X_test_age).flatten()"
   ]
  },
  {
   "cell_type": "code",
   "execution_count": 38,
   "metadata": {
    "scrolled": true
   },
   "outputs": [
    {
     "data": {
      "text/plain": [
       "array([38.72209  ,  6.9268136, 45.424038 , ..., 36.961365 , 33.52786  ,\n",
       "       31.615093 ], dtype=float32)"
      ]
     },
     "execution_count": 38,
     "metadata": {},
     "output_type": "execute_result"
    }
   ],
   "source": [
    "age_pred"
   ]
  },
  {
   "cell_type": "code",
   "execution_count": 39,
   "metadata": {},
   "outputs": [
    {
     "data": {
      "image/png": "[encoded data removed]",
      "text/plain": [
       "<Figure size 432x288 with 1 Axes>"
      ]
     },
     "metadata": {
      "needs_background": "light"
     },
     "output_type": "display_data"
    }
   ],
   "source": [
    "fig = plt.figure()\n",
    "plt.scatter(Y_test_age, age_pred)\n",
    "plt.xlabel('Actual age')\n",
    "plt.ylabel('Predicted age')\n",
    "plt.show()"
   ]
  },
  {
   "cell_type": "code",
   "execution_count": 40,
   "metadata": {
    "scrolled": true
   },
   "outputs": [
    {
     "name": "stdout",
     "output_type": "stream",
     "text": [
      "R-saqured:  0.797261616637166\n",
      "RMSE:  8.96558752361242\n"
     ]
    }
   ],
   "source": [
    "r2_scores=r2_score(Y_test_age, age_pred)\n",
    "rmse_scores=mean_squared_error(Y_test_age, age_pred)**0.5\n",
    "print('R-saqured: ', r2_scores)\n",
    "print('RMSE: ', rmse_scores)"
   ]
  },
  {
   "cell_type": "markdown",
   "metadata": {},
   "source": [
    "c) Race"
   ]
  },
  {
   "cell_type": "code",
   "execution_count": 44,
   "metadata": {},
   "outputs": [
    {
     "name": "stdout",
     "output_type": "stream",
     "text": [
      "186/186 [==============================] - 4s 19ms/step\n"
     ]
    }
   ],
   "source": [
    "race_pred=np.argmax(race_model.predict([X_test_race]),axis=1)"
   ]
  },
  {
   "cell_type": "code",
   "execution_count": 45,
   "metadata": {
    "scrolled": true
   },
   "outputs": [
    {
     "data": {
      "text/plain": [
       "<AxesSubplot:xlabel='Predicted', ylabel='Actual'>"
      ]
     },
     "execution_count": 45,
     "metadata": {},
     "output_type": "execute_result"
    },
    {
     "data": {
      "image/png": "[encoded data removed]",
      "text/plain": [
       "<Figure size 432x288 with 1 Axes>"
      ]
     },
     "metadata": {
      "needs_background": "light"
     },
     "output_type": "display_data"
    }
   ],
   "source": [
    "#confusion matrix\n",
    "cm=confusion_matrix(Y_test_race, race_pred)\n",
    "df_cm = pd.DataFrame(cm, columns=np.unique(Y_test_race), index = np.unique(Y_test_race))\n",
    "df_cm.index.name = 'Actual'\n",
    "df_cm.columns.name = 'Predicted'\n",
    "sns.heatmap(df_cm, annot=True,annot_kws={\"size\": 12}, cbar=False,square=True, fmt=\"d\", cmap=\"Blues\")"
   ]
  },
  {
   "cell_type": "code",
   "execution_count": 46,
   "metadata": {},
   "outputs": [
    {
     "name": "stdout",
     "output_type": "stream",
     "text": [
      "              precision    recall  f1-score   support\n",
      "\n",
      "         0.0       0.84      0.87      0.85      2501\n",
      "         1.0       0.83      0.88      0.86      1215\n",
      "         2.0       0.82      0.87      0.84       839\n",
      "         3.0       0.70      0.77      0.74       960\n",
      "         4.0       0.50      0.12      0.20       412\n",
      "\n",
      "    accuracy                           0.80      5927\n",
      "   macro avg       0.74      0.70      0.70      5927\n",
      "weighted avg       0.79      0.80      0.79      5927\n",
      "\n"
     ]
    }
   ],
   "source": [
    "#classification report\n",
    "print(classification_report(Y_test_race, race_pred))"
   ]
  },
  {
   "cell_type": "code",
   "execution_count": null,
   "metadata": {},
   "outputs": [],
   "source": []
  }
 ],
 "metadata": {
  "colab": {
   "provenance": []
  },
  "kernelspec": {
   "display_name": "Python 3 (ipykernel)",
   "language": "python",
   "name": "python3"
  },
  "language_info": {
   "codemirror_mode": {
    "name": "ipython",
    "version": 3
   },
   "file_extension": ".py",
   "mimetype": "text/x-python",
   "name": "python",
   "nbconvert_exporter": "python",
   "pygments_lexer": "ipython3",
   "version": "3.9.16"
  }
 },
 "nbformat": 4,
 "nbformat_minor": 1
}
