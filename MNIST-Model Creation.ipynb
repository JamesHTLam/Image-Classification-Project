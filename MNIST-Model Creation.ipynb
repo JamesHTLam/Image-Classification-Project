{
 "cells": [
  {
   "cell_type": "code",
   "execution_count": 21,
   "id": "0d1033ae",
   "metadata": {},
   "outputs": [],
   "source": [
    "import pandas as pd\n",
    "import numpy as np\n",
    "from numpy import array\n",
    "import matplotlib.pyplot as plt\n",
    "import seaborn as sns\n",
    "import os\n",
    "from PIL import Image\n",
    "\n",
    "from sklearn.model_selection import train_test_split\n",
    "from sklearn.metrics import confusion_matrix, classification_report\n",
    "from keras.utils import load_img\n",
    "\n",
    "from tensorflow.keras.preprocessing import image\n",
    "import tensorflow as tf  \n",
    "from tensorflow.keras import Sequential\n",
    "from tensorflow.keras.layers import BatchNormalization\n",
    "from tensorflow.keras.layers import Dense, Dropout, Activation, Flatten\n",
    "from tensorflow.keras.layers import Conv2D, MaxPooling2D\n",
    "from tensorflow.keras.utils import to_categorical\n",
    "from keras.preprocessing.image import ImageDataGenerator\n",
    "from tensorflow.keras.datasets import mnist\n",
    "import cv2\n",
    "from keras.models import load_model"
   ]
  },
  {
   "cell_type": "code",
   "execution_count": 49,
   "id": "fdf0febc",
   "metadata": {},
   "outputs": [],
   "source": [
    "#load data\n",
    "(X_train, Y_train), (X_test, Y_test)=mnist.load_data()"
   ]
  },
  {
   "cell_type": "code",
   "execution_count": 50,
   "id": "746b0600",
   "metadata": {},
   "outputs": [],
   "source": [
    "#Normalization\n",
    "X_train=X_train/255\n",
    "X_test=X_test/255"
   ]
  },
  {
   "cell_type": "code",
   "execution_count": 51,
   "id": "3b70f5a8",
   "metadata": {},
   "outputs": [],
   "source": [
    "X_train=X_train.reshape(X_train.shape[0], 28, 28, 1)\n",
    "X_test=X_test.reshape(X_test.shape[0], 28, 28, 1)"
   ]
  },
  {
   "cell_type": "code",
   "execution_count": 52,
   "id": "bc2f9d97",
   "metadata": {},
   "outputs": [],
   "source": [
    "Y_train=to_categorical(Y_train)   \n",
    "Y_test=to_categorical(Y_test)"
   ]
  },
  {
   "cell_type": "code",
   "execution_count": 73,
   "id": "8a0f3ce4",
   "metadata": {},
   "outputs": [],
   "source": [
    "batch_size = 32\n",
    "data_generator = ImageDataGenerator(width_shift_range=0.1, height_shift_range=0.1, horizontal_flip=True)\n",
    "train_generator = data_generator.flow(X_train, Y_train, batch_size)"
   ]
  },
  {
   "cell_type": "code",
   "execution_count": 74,
   "id": "ae873c39",
   "metadata": {},
   "outputs": [],
   "source": [
    "#model creation\n",
    "model=Sequential()\n",
    "model = Sequential()\n",
    "model.add(Conv2D(32, kernel_size = 3, activation='relu', input_shape = (28,28,1)))\n",
    "model.add(MaxPooling2D())\n",
    "model.add(Conv2D(32, kernel_size = 3, activation='relu'))\n",
    "model.add(BatchNormalization())\n",
    "model.add(Conv2D(32, kernel_size = 5, strides=2, padding='same', activation='relu'))\n",
    "model.add(BatchNormalization())\n",
    "model.add(Dropout(0.4))\n",
    "model.add(Conv2D(64, kernel_size = 3, activation='relu'))\n",
    "model.add(BatchNormalization())\n",
    "model.add(Conv2D(64, kernel_size = 3, activation='relu'))\n",
    "model.add(BatchNormalization())\n",
    "model.add(Conv2D(64, kernel_size = 5, strides=2, padding='same', activation='relu'))\n",
    "model.add(BatchNormalization())\n",
    "model.add(Dropout(0.4))\n",
    "model.add(Flatten())\n",
    "model.add(Dropout(0.4))\n",
    "model.add(Dense(10, activation='softmax'))\n",
    "\n",
    "model.compile(loss='categorical_crossentropy',optimizer='adam',metrics=['accuracy'])"
   ]
  },
  {
   "cell_type": "code",
   "execution_count": 75,
   "id": "5925d185",
   "metadata": {},
   "outputs": [
    {
     "name": "stdout",
     "output_type": "stream",
     "text": [
      "Epoch 1/30\n",
      "1875/1875 [==============================] - 88s 46ms/step - loss: 0.7215 - accuracy: 0.7763 - val_loss: 0.1248 - val_accuracy: 0.9593\n",
      "Epoch 2/30\n",
      "1875/1875 [==============================] - 94s 50ms/step - loss: 0.2533 - accuracy: 0.9293 - val_loss: 0.0695 - val_accuracy: 0.9771\n",
      "Epoch 3/30\n",
      "1875/1875 [==============================] - 91s 49ms/step - loss: 0.1850 - accuracy: 0.9472 - val_loss: 0.0854 - val_accuracy: 0.9733\n",
      "Epoch 4/30\n",
      "1875/1875 [==============================] - 97s 52ms/step - loss: 0.1595 - accuracy: 0.9560 - val_loss: 0.0662 - val_accuracy: 0.9805\n",
      "Epoch 5/30\n",
      "1875/1875 [==============================] - 85s 45ms/step - loss: 0.1440 - accuracy: 0.9614 - val_loss: 0.0766 - val_accuracy: 0.9774\n",
      "Epoch 6/30\n",
      "1875/1875 [==============================] - 91s 48ms/step - loss: 0.1304 - accuracy: 0.9649 - val_loss: 0.0500 - val_accuracy: 0.9856\n",
      "Epoch 7/30\n",
      "1875/1875 [==============================] - 85s 45ms/step - loss: 0.1195 - accuracy: 0.9676 - val_loss: 0.0723 - val_accuracy: 0.9773\n",
      "Epoch 8/30\n",
      "1875/1875 [==============================] - 90s 48ms/step - loss: 0.1101 - accuracy: 0.9701 - val_loss: 0.0441 - val_accuracy: 0.9863\n",
      "Epoch 9/30\n",
      "1875/1875 [==============================] - 85s 45ms/step - loss: 0.1034 - accuracy: 0.9714 - val_loss: 0.0313 - val_accuracy: 0.9888\n",
      "Epoch 10/30\n",
      "1875/1875 [==============================] - 85s 45ms/step - loss: 0.1027 - accuracy: 0.9729 - val_loss: 0.0453 - val_accuracy: 0.9848\n",
      "Epoch 11/30\n",
      "1875/1875 [==============================] - 87s 46ms/step - loss: 0.0937 - accuracy: 0.9741 - val_loss: 0.0458 - val_accuracy: 0.9860\n",
      "Epoch 12/30\n",
      "1875/1875 [==============================] - 86s 46ms/step - loss: 0.0880 - accuracy: 0.9760 - val_loss: 0.0434 - val_accuracy: 0.9875\n",
      "Epoch 13/30\n",
      "1875/1875 [==============================] - 86s 46ms/step - loss: 0.0889 - accuracy: 0.9756 - val_loss: 0.0487 - val_accuracy: 0.9858\n",
      "Epoch 14/30\n",
      "1875/1875 [==============================] - 85s 45ms/step - loss: 0.0880 - accuracy: 0.9761 - val_loss: 0.0484 - val_accuracy: 0.9839\n",
      "Epoch 15/30\n",
      "1875/1875 [==============================] - 86s 46ms/step - loss: 0.0855 - accuracy: 0.9767 - val_loss: 0.0378 - val_accuracy: 0.9888\n",
      "Epoch 16/30\n",
      "1875/1875 [==============================] - 84s 45ms/step - loss: 0.0805 - accuracy: 0.9777 - val_loss: 0.0310 - val_accuracy: 0.9902\n",
      "Epoch 17/30\n",
      "1875/1875 [==============================] - 87s 46ms/step - loss: 0.0795 - accuracy: 0.9786 - val_loss: 0.0331 - val_accuracy: 0.9894\n",
      "Epoch 18/30\n",
      "1875/1875 [==============================] - 87s 46ms/step - loss: 0.0766 - accuracy: 0.9789 - val_loss: 0.0444 - val_accuracy: 0.9865\n",
      "Epoch 19/30\n",
      "1875/1875 [==============================] - 85s 46ms/step - loss: 0.0739 - accuracy: 0.9798 - val_loss: 0.0368 - val_accuracy: 0.9882\n",
      "Epoch 20/30\n",
      "1875/1875 [==============================] - 85s 45ms/step - loss: 0.0718 - accuracy: 0.9805 - val_loss: 0.0397 - val_accuracy: 0.9878\n",
      "Epoch 21/30\n",
      "1875/1875 [==============================] - 85s 45ms/step - loss: 0.0701 - accuracy: 0.9805 - val_loss: 0.0329 - val_accuracy: 0.9904\n",
      "Epoch 22/30\n",
      "1875/1875 [==============================] - 85s 45ms/step - loss: 0.0715 - accuracy: 0.9802 - val_loss: 0.0454 - val_accuracy: 0.9875\n",
      "Epoch 23/30\n",
      "1875/1875 [==============================] - 84s 45ms/step - loss: 0.0695 - accuracy: 0.9813 - val_loss: 0.0359 - val_accuracy: 0.9893\n",
      "Epoch 24/30\n",
      "1875/1875 [==============================] - 87s 46ms/step - loss: 0.0665 - accuracy: 0.9818 - val_loss: 0.0411 - val_accuracy: 0.9883\n",
      "Epoch 25/30\n",
      "1875/1875 [==============================] - 87s 46ms/step - loss: 0.0664 - accuracy: 0.9814 - val_loss: 0.0321 - val_accuracy: 0.9904\n",
      "Epoch 26/30\n",
      "1875/1875 [==============================] - 85s 45ms/step - loss: 0.0675 - accuracy: 0.9813 - val_loss: 0.0330 - val_accuracy: 0.9902\n",
      "Epoch 27/30\n",
      "1875/1875 [==============================] - 85s 45ms/step - loss: 0.0674 - accuracy: 0.9816 - val_loss: 0.0398 - val_accuracy: 0.9876\n",
      "Epoch 28/30\n",
      "1875/1875 [==============================] - 590s 315ms/step - loss: 0.0650 - accuracy: 0.9817 - val_loss: 0.0303 - val_accuracy: 0.9908\n",
      "Epoch 29/30\n",
      "1875/1875 [==============================] - 80s 43ms/step - loss: 0.0646 - accuracy: 0.9821 - val_loss: 0.0360 - val_accuracy: 0.9884\n",
      "Epoch 30/30\n",
      "1875/1875 [==============================] - 72s 39ms/step - loss: 0.0619 - accuracy: 0.9828 - val_loss: 0.0375 - val_accuracy: 0.9895\n"
     ]
    }
   ],
   "source": [
    "#model training\n",
    "history = model.fit(train_generator, validation_data=(X_test, Y_test), epochs=30)"
   ]
  },
  {
   "cell_type": "code",
   "execution_count": 76,
   "id": "77c88426",
   "metadata": {},
   "outputs": [],
   "source": [
    "model.save(\"mnist.h5\")"
   ]
  },
  {
   "cell_type": "markdown",
   "id": "20736bd6",
   "metadata": {},
   "source": [
    "### Model Evaluation"
   ]
  },
  {
   "cell_type": "code",
   "execution_count": 81,
   "id": "0e79126f",
   "metadata": {},
   "outputs": [
    {
     "name": "stdout",
     "output_type": "stream",
     "text": [
      "313/313 [==============================] - 4s 14ms/step\n"
     ]
    }
   ],
   "source": [
    "Y_pred=np.argmax(model.predict([X_test]),axis=1)"
   ]
  },
  {
   "cell_type": "code",
   "execution_count": 82,
   "id": "918158e4",
   "metadata": {},
   "outputs": [
    {
     "data": {
      "text/plain": [
       "array([7, 2, 1, ..., 4, 5, 6], dtype=int64)"
      ]
     },
     "execution_count": 82,
     "metadata": {},
     "output_type": "execute_result"
    }
   ],
   "source": [
    "Y_true=np.argmax(Y_test, axis=1)\n",
    "Y_true"
   ]
  },
  {
   "cell_type": "code",
   "execution_count": 83,
   "id": "142adbd0",
   "metadata": {},
   "outputs": [
    {
     "data": {
      "text/plain": [
       "array([7, 2, 1, ..., 4, 5, 6], dtype=int64)"
      ]
     },
     "execution_count": 83,
     "metadata": {},
     "output_type": "execute_result"
    }
   ],
   "source": [
    "Y_pred"
   ]
  },
  {
   "cell_type": "code",
   "execution_count": 84,
   "id": "830b49a4",
   "metadata": {},
   "outputs": [
    {
     "data": {
      "text/plain": [
       "<AxesSubplot:xlabel='Predicted', ylabel='Actual'>"
      ]
     },
     "execution_count": 84,
     "metadata": {},
     "output_type": "execute_result"
    },
    {
     "data": {
      "image/png": "[encoded data removed]",
      "text/plain": [
       "<Figure size 432x288 with 1 Axes>"
      ]
     },
     "metadata": {
      "needs_background": "light"
     },
     "output_type": "display_data"
    }
   ],
   "source": [
    "#Confusion matrix\n",
    "cm=confusion_matrix(Y_true, Y_pred)\n",
    "df_cm = pd.DataFrame(cm, columns=np.unique(Y_true), index = np.unique(Y_true))\n",
    "df_cm.index.name = 'Actual'\n",
    "df_cm.columns.name = 'Predicted'\n",
    "sns.heatmap(df_cm, annot=True,annot_kws={\"size\": 12}, cbar=False,square=True, fmt=\"d\", cmap=\"Blues\")"
   ]
  },
  {
   "cell_type": "code",
   "execution_count": 85,
   "id": "0781ea1c",
   "metadata": {},
   "outputs": [
    {
     "name": "stdout",
     "output_type": "stream",
     "text": [
      "              precision    recall  f1-score   support\n",
      "\n",
      "           0       0.99      1.00      1.00       980\n",
      "           1       1.00      0.99      1.00      1135\n",
      "           2       0.98      0.98      0.98      1032\n",
      "           3       1.00      1.00      1.00      1010\n",
      "           4       0.99      0.99      0.99       982\n",
      "           5       0.99      0.98      0.99       892\n",
      "           6       0.98      0.99      0.99       958\n",
      "           7       0.99      0.99      0.99      1028\n",
      "           8       0.98      0.99      0.99       974\n",
      "           9       1.00      0.97      0.98      1009\n",
      "\n",
      "    accuracy                           0.99     10000\n",
      "   macro avg       0.99      0.99      0.99     10000\n",
      "weighted avg       0.99      0.99      0.99     10000\n",
      "\n"
     ]
    }
   ],
   "source": [
    "#Classification Report\n",
    "print(classification_report(Y_true, Y_pred))"
   ]
  },
  {
   "cell_type": "code",
   "execution_count": null,
   "id": "3691d701",
   "metadata": {},
   "outputs": [],
   "source": []
  }
 ],
 "metadata": {
  "kernelspec": {
   "display_name": "Python 3 (ipykernel)",
   "language": "python",
   "name": "python3"
  },
  "language_info": {
   "codemirror_mode": {
    "name": "ipython",
    "version": 3
   },
   "file_extension": ".py",
   "mimetype": "text/x-python",
   "name": "python",
   "nbconvert_exporter": "python",
   "pygments_lexer": "ipython3",
   "version": "3.9.16"
  }
 },
 "nbformat": 4,
 "nbformat_minor": 5
}
